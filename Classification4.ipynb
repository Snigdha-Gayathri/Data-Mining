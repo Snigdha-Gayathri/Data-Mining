{
  "nbformat": 4,
  "nbformat_minor": 0,
  "metadata": {
    "colab": {
      "provenance": [],
      "authorship_tag": "ABX9TyMBfJdG7AnhsyU06j5wXALn",
      "include_colab_link": true
    },
    "kernelspec": {
      "name": "python3",
      "display_name": "Python 3"
    },
    "language_info": {
      "name": "python"
    }
  },
  "cells": [
    {
      "cell_type": "markdown",
      "metadata": {
        "id": "view-in-github",
        "colab_type": "text"
      },
      "source": [
        "<a href=\"https://colab.research.google.com/github/Snigdha-Gayathri/DataMiningexp3/blob/main/Classification4.ipynb\" target=\"_parent\"><img src=\"https://colab.research.google.com/assets/colab-badge.svg\" alt=\"Open In Colab\"/></a>"
      ]
    },
    {
      "cell_type": "code",
      "execution_count": 10,
      "metadata": {
        "colab": {
          "base_uri": "https://localhost:8080/"
        },
        "id": "NiyJ6ZE2I3K1",
        "outputId": "6f4ae41f-b1cd-4730-cbc9-635935650769"
      },
      "outputs": [
        {
          "output_type": "stream",
          "name": "stdout",
          "text": [
            "Accuracy Score:  100.0\n",
            "Classification Report\n",
            "0-setosa  1-versicolor 2-virginica\n",
            "[1 1 1 0 0 0 2 0 2 1 2 1 0 2 0 1 0 2 0 0 1 2 2 1 2 0 0 0 2 2]\n",
            "Confusion Matrix \n",
            " [[12  0  0]\n",
            " [ 0  8  0]\n",
            " [ 0  0 10]]\n"
          ]
        }
      ],
      "source": [
        "from sklearn.datasets import load_iris\n",
        "from sklearn.model_selection import train_test_split\n",
        "from sklearn.naive_bayes import GaussianNB\n",
        "\n",
        "iris=load_iris()\n",
        "x=iris.data\n",
        "y=iris.target\n",
        "\n",
        "xtrain,xtest,ytrain,ytest=train_test_split(x,y,test_size=0.2,random_state=18)\n",
        "\n",
        "model=GaussianNB()\n",
        "model.fit(xtrain,ytrain)\n",
        "ypred=model.predict(xtest)\n",
        "\n",
        "from sklearn.metrics import accuracy_score\n",
        "accuracy=accuracy_score(ytest,ypred)*100\n",
        "print('Accuracy Score: ',accuracy)\n",
        "\n",
        "print('Classification Report')\n",
        "print('0-setosa  1-versicolor 2-virginica')\n",
        "print(model.predict(xtest))\n",
        "\n",
        "from sklearn.metrics import confusion_matrix\n",
        "cm = confusion_matrix(ytest, ypred)\n",
        "print('Confusion Matrix','\\n',cm)"
      ]
    },
    {
      "cell_type": "code",
      "source": [
        "iris.target_names"
      ],
      "metadata": {
        "colab": {
          "base_uri": "https://localhost:8080/"
        },
        "id": "VTA9K2FqLKTZ",
        "outputId": "3aaed91f-3b01-4683-cac2-95ca2fcf1b2b"
      },
      "execution_count": null,
      "outputs": [
        {
          "output_type": "execute_result",
          "data": {
            "text/plain": [
              "array(['setosa', 'versicolor', 'virginica'], dtype='<U10')"
            ]
          },
          "metadata": {},
          "execution_count": 4
        }
      ]
    }
  ]
}