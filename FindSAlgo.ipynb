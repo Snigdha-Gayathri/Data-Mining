{
  "nbformat": 4,
  "nbformat_minor": 0,
  "metadata": {
    "colab": {
      "provenance": [],
      "authorship_tag": "ABX9TyPiRLjIXJQHycSCenP+sRck",
      "include_colab_link": true
    },
    "kernelspec": {
      "name": "python3",
      "display_name": "Python 3"
    },
    "language_info": {
      "name": "python"
    }
  },
  "cells": [
    {
      "cell_type": "markdown",
      "metadata": {
        "id": "view-in-github",
        "colab_type": "text"
      },
      "source": [
        "<a href=\"https://colab.research.google.com/github/Snigdha-Gayathri/Data-Mining/blob/main/FindSAlgo.ipynb\" target=\"_parent\"><img src=\"https://colab.research.google.com/assets/colab-badge.svg\" alt=\"Open In Colab\"/></a>"
      ]
    },
    {
      "cell_type": "code",
      "execution_count": 1,
      "metadata": {
        "colab": {
          "base_uri": "https://localhost:8080/"
        },
        "id": "DxhtwiGl9PtB",
        "outputId": "ec143841-cb3f-4f3b-a356-585ebb1ad6c6"
      },
      "outputs": [
        {
          "output_type": "stream",
          "name": "stdout",
          "text": [
            "\n",
            "Independent Features\n",
            "[['sunny' 'warm' 'normal' 'strong' 'warm' 'same']\n",
            " ['sunny' 'warm' 'high' 'strong' 'warm' 'same']\n",
            " ['rainy' 'cold' 'high' 'strong' 'warm' 'change']\n",
            " ['sunny' 'warm' 'high' 'strong' 'cool' 'change']]\n",
            "\n",
            "Target Variable\n",
            "['yes' 'yes' 'no' 'yes']\n",
            "\n",
            "Initial hypothesis from first positive example: ['sunny' 'warm' 'normal' 'strong' 'warm' 'same']\n",
            "\n",
            "Hypothesis after example 1: ['sunny' 'warm' 'normal' 'strong' 'warm' 'same']\n",
            "\n",
            "Hypothesis after example 2: ['sunny' 'warm' '?' 'strong' 'warm' 'same']\n",
            "\n",
            "Hypothesis after example 4: ['sunny' 'warm' '?' 'strong' '?' '?']\n",
            "\n",
            "The most specific hypothesis is: ['sunny' 'warm' '?' 'strong' '?' '?']\n"
          ]
        }
      ],
      "source": [
        "import pandas as pd\n",
        "import numpy as np\n",
        "\n",
        "data=pd.read_csv('/content/data.csv')\n",
        "\n",
        "x = np.array(data)[:,:-1]\n",
        "y = np.array(data)[:,-1]\n",
        "\n",
        "print(\"\\nIndependent Features\")\n",
        "print(x)\n",
        "\n",
        "print(\"\\nTarget Variable\")\n",
        "print(y)\n",
        "\n",
        "# Function to implement FIND-S algorithm with hypothesis printing at each step\n",
        "def train(con, tar):\n",
        "    # Initialize the specific hypothesis with the first positive example\n",
        "    for i, val in enumerate(tar):\n",
        "        if val == 'yes':\n",
        "            specific_h = con[i].copy()\n",
        "            print(f\"\\nInitial hypothesis from first positive example: {specific_h}\")\n",
        "            break\n",
        "\n",
        "    # Update the hypothesis based on other positive examples\n",
        "    for i, val in enumerate(con):\n",
        "        if tar[i] == 'yes':\n",
        "            for x in range(len(specific_h)):\n",
        "                if val[x] != specific_h[x]:\n",
        "                    specific_h[x] = '?'\n",
        "            print(f\"\\nHypothesis after example {i+1}: {specific_h}\")\n",
        "    return specific_h\n",
        "\n",
        "# Apply the FIND-S algorithm to the data\n",
        "specific_hypothesis = train(x, y)\n",
        "\n",
        "# Display the most specific hypothesis\n",
        "print(\"\\nThe most specific hypothesis is:\", specific_hypothesis)\n",
        "\n"
      ]
    }
  ]
}